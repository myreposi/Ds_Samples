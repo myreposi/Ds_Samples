{
  "nbformat": 4,
  "nbformat_minor": 0,
  "metadata": {
    "colab": {
      "provenance": [],
      "collapsed_sections": [],
      "mount_file_id": "1cw8xiM3ToXhcdUcXi02uUIpdYmkE8jvR",
      "authorship_tag": "ABX9TyPvndip1FYTR+8AZ02HUHnO",
      "include_colab_link": true
    },
    "kernelspec": {
      "name": "python3",
      "display_name": "Python 3"
    },
    "language_info": {
      "name": "python"
    },
    "accelerator": "GPU"
  },
  "cells": [
    {
      "cell_type": "markdown",
      "metadata": {
        "id": "view-in-github",
        "colab_type": "text"
      },
      "source": [
        "<a href=\"https://colab.research.google.com/github/myreposi/Ds_Samples/blob/master/PySpark_Ml_1.ipynb\" target=\"_parent\"><img src=\"https://colab.research.google.com/assets/colab-badge.svg\" alt=\"Open In Colab\"/></a>"
      ]
    },
    {
      "cell_type": "code",
      "source": [
        "from pyspark.sql import SparkSession\n",
        "from pyspark.sql.functions import isnull, when, count, col\n",
        "from pyspark.ml.feature import VectorAssembler,StringIndexer\n",
        "from pandas.plotting import scatter_matrix\n",
        "from pyspark.ml.classification import RandomForestClassifier\n",
        "from pyspark.ml.classification import DecisionTreeClassifier\n",
        "from pyspark.ml.classification import GBTClassifier\n",
        "from pyspark.ml.evaluation import MulticlassClassificationEvaluator\n",
        "import pandas as pd\n",
        "import numpy as np"
      ],
      "metadata": {
        "id": "2jqMcxZnCLuN"
      },
      "execution_count": 2,
      "outputs": []
    },
    {
      "cell_type": "code",
      "source": [
        "spark = SparkSession.builder.appName('tps-2022-ml-with-pyspark').getOrCreate()\n",
        "df = spark.read.csv('/content/drive/MyDrive/train.csv', header = True, inferSchema = True)\n",
        "df.printSchema()"
      ],
      "metadata": {
        "colab": {
          "base_uri": "https://localhost:8080/"
        },
        "id": "5gEh625nCp8k",
        "outputId": "c1870599-6ce7-4a94-e6a6-b3a2f35af684"
      },
      "execution_count": 3,
      "outputs": [
        {
          "output_type": "stream",
          "name": "stdout",
          "text": [
            "root\n",
            " |-- PassengerId: integer (nullable = true)\n",
            " |-- Survived: integer (nullable = true)\n",
            " |-- Pclass: integer (nullable = true)\n",
            " |-- Name: string (nullable = true)\n",
            " |-- Sex: string (nullable = true)\n",
            " |-- Age: double (nullable = true)\n",
            " |-- SibSp: integer (nullable = true)\n",
            " |-- Parch: integer (nullable = true)\n",
            " |-- Ticket: string (nullable = true)\n",
            " |-- Fare: double (nullable = true)\n",
            " |-- Cabin: string (nullable = true)\n",
            " |-- Embarked: string (nullable = true)\n",
            "\n"
          ]
        }
      ]
    },
    {
      "cell_type": "code",
      "source": [
        "df.show(5)\n",
        "\n",
        "df.groupby('Survived').count().show()\n",
        "\n",
        "numeric_features = [t[0] for t in df.dtypes if t[1] == 'int']\n",
        "df.select(numeric_features).describe().show()\n"
      ],
      "metadata": {
        "colab": {
          "base_uri": "https://localhost:8080/"
        },
        "id": "-l68EEZwDyD6",
        "outputId": "fb2f8e09-ddc3-4d1a-aba5-80179c73eb15"
      },
      "execution_count": 4,
      "outputs": [
        {
          "output_type": "stream",
          "name": "stdout",
          "text": [
            "+-----------+--------+------+----------------+----+----+-----+-----+---------+-----+------+--------+\n",
            "|PassengerId|Survived|Pclass|            Name| Sex| Age|SibSp|Parch|   Ticket| Fare| Cabin|Embarked|\n",
            "+-----------+--------+------+----------------+----+----+-----+-----+---------+-----+------+--------+\n",
            "|          0|       1|     1|Oconnor, Frankie|male|null|    2|    0|   209245|27.14|C12239|       S|\n",
            "|          1|       0|     3|     Bryan, Drew|male|null|    0|    0|    27323|13.35|  null|       S|\n",
            "|          2|       0|     3|  Owens, Kenneth|male|0.33|    1|    2|CA 457703|71.29|  null|       S|\n",
            "|          3|       0|     3|   Kramer, James|male|19.0|    0|    0| A. 10866|13.04|  null|       S|\n",
            "|          4|       1|     3|   Bond, Michael|male|25.0|    0|    0|   427635| 7.76|  null|       S|\n",
            "+-----------+--------+------+----------------+----+----+-----+-----+---------+-----+------+--------+\n",
            "only showing top 5 rows\n",
            "\n",
            "+--------+-----+\n",
            "|Survived|count|\n",
            "+--------+-----+\n",
            "|       1|42774|\n",
            "|       0|57226|\n",
            "+--------+-----+\n",
            "\n",
            "+-------+-----------------+------------------+------------------+------------------+------------------+\n",
            "|summary|      PassengerId|          Survived|            Pclass|             SibSp|             Parch|\n",
            "+-------+-----------------+------------------+------------------+------------------+------------------+\n",
            "|  count|           100000|            100000|            100000|            100000|            100000|\n",
            "|   mean|          49999.5|           0.42774|           2.10691|           0.39769|           0.45456|\n",
            "| stddev|28867.65779668774|0.4947534135399176|0.8377274436072248|0.8625659998522109|0.9500759089895516|\n",
            "|    min|                0|                 0|                 1|                 0|                 0|\n",
            "|    max|            99999|                 1|                 3|                 8|                 9|\n",
            "+-------+-----------------+------------------+------------------+------------------+------------------+\n",
            "\n"
          ]
        }
      ]
    },
    {
      "cell_type": "code",
      "source": [
        "numeric_data = df.select(numeric_features).toPandas()\n",
        "\n",
        "axs = scatter_matrix(numeric_data, figsize=(8, 8));\n",
        "\n",
        "# Rotate axis labels and remove axis ticks\n",
        "n = len(numeric_data.columns)\n",
        "for i in range(n):\n",
        "    v = axs[i, 0]\n",
        "    v.yaxis.label.set_rotation(0)\n",
        "    v.yaxis.label.set_ha('right')\n",
        "    v.set_yticks(())\n",
        "    h = axs[n-1, i]\n",
        "    h.xaxis.label.set_rotation(90)\n",
        "    h.set_xticks(())"
      ],
      "metadata": {
        "colab": {
          "base_uri": "https://localhost:8080/",
          "height": 530
        },
        "id": "zQKbQaQkEBiM",
        "outputId": "1dfe05e4-3e00-4435-c305-5045110103ff"
      },
      "execution_count": 5,
      "outputs": [
        {
          "output_type": "display_data",
          "data": {
            "text/plain": [
              "<Figure size 576x576 with 25 Axes>"
            ],
            "image/png": "[encoded data removed]"
          },
          "metadata": {
            "needs_background": "light"
          }
        }
      ]
    },
    {
      "cell_type": "code",
      "source": [
        "numeric_data = df.select(numeric_features).toPandas()\n",
        "\n",
        "axs = scatter_matrix(numeric_data, figsize=(8, 8));\n",
        "\n",
        "# Rotate axis labels and remove axis ticks\n",
        "n = len(numeric_data.columns)\n",
        "for i in range(n):\n",
        "    v = axs[i, 0]\n",
        "    v.yaxis.label.set_rotation(0)\n",
        "    v.yaxis.label.set_ha('right')\n",
        "    v.set_yticks(())\n",
        "    h = axs[n-1, i]\n",
        "    h.xaxis.label.set_rotation(90)\n",
        "    h.set_xticks(())"
      ],
      "metadata": {
        "colab": {
          "base_uri": "https://localhost:8080/",
          "height": 530
        },
        "id": "UsgUj8pGETCU",
        "outputId": "0f1be656-de7e-4641-c8ea-225775b96427"
      },
      "execution_count": 6,
      "outputs": [
        {
          "output_type": "display_data",
          "data": {
            "text/plain": [
              "<Figure size 576x576 with 25 Axes>"
            ],
            "image/png": "[encoded data removed]"
          },
          "metadata": {
            "needs_background": "light"
          }
        }
      ]
    },
    {
      "cell_type": "code",
      "source": [
        "df.select([count(when(isnull(c), c)).alias(c) for c in df.columns]).show()"
      ],
      "metadata": {
        "colab": {
          "base_uri": "https://localhost:8080/"
        },
        "id": "paLfLB4aEm_E",
        "outputId": "db9ea700-d64c-4e44-e23d-860512f2ac4c"
      },
      "execution_count": 7,
      "outputs": [
        {
          "output_type": "stream",
          "name": "stdout",
          "text": [
            "+-----------+--------+------+----+---+----+-----+-----+------+----+-----+--------+\n",
            "|PassengerId|Survived|Pclass|Name|Sex| Age|SibSp|Parch|Ticket|Fare|Cabin|Embarked|\n",
            "+-----------+--------+------+----+---+----+-----+-----+------+----+-----+--------+\n",
            "|          0|       0|     0|   0|  0|3292|    0|    0|  4623| 134|67866|     250|\n",
            "+-----------+--------+------+----+---+----+-----+-----+------+----+-----+--------+\n",
            "\n"
          ]
        }
      ]
    },
    {
      "cell_type": "code",
      "source": [
        "dataset = df.replace('null', None)\\\n",
        "        .dropna(how='any')"
      ],
      "metadata": {
        "id": "fGtN9PseEvgM"
      },
      "execution_count": 8,
      "outputs": []
    },
    {
      "cell_type": "code",
      "source": [
        "dataset.select([count(when(isnull(c), c)).alias(c) for c in df.columns]).show()"
      ],
      "metadata": {
        "colab": {
          "base_uri": "https://localhost:8080/"
        },
        "id": "qmgahsGYE2WF",
        "outputId": "266656a6-a51e-4761-d22f-80663f1ca861"
      },
      "execution_count": 9,
      "outputs": [
        {
          "output_type": "stream",
          "name": "stdout",
          "text": [
            "+-----------+--------+------+----+---+---+-----+-----+------+----+-----+--------+\n",
            "|PassengerId|Survived|Pclass|Name|Sex|Age|SibSp|Parch|Ticket|Fare|Cabin|Embarked|\n",
            "+-----------+--------+------+----+---+---+-----+-----+------+----+-----+--------+\n",
            "|          0|       0|     0|   0|  0|  0|    0|    0|     0|   0|    0|       0|\n",
            "+-----------+--------+------+----+---+---+-----+-----+------+----+-----+--------+\n",
            "\n"
          ]
        }
      ]
    },
    {
      "cell_type": "code",
      "source": [
        "dataset = dataset.drop('PassengerId')\n",
        "dataset = dataset.drop('Ticket')\n",
        "dataset = dataset.drop('Fare')\n",
        "dataset = dataset.drop('Cabin')\n",
        "dataset = dataset.drop('Embarked')\n",
        "dataset = dataset.drop('Name')\n",
        "dataset.show()"
      ],
      "metadata": {
        "colab": {
          "base_uri": "https://localhost:8080/"
        },
        "id": "i3KvPpHKE8Tm",
        "outputId": "488128f5-e86f-43f6-a9ec-10291a5d56ae"
      },
      "execution_count": 10,
      "outputs": [
        {
          "output_type": "stream",
          "name": "stdout",
          "text": [
            "+--------+------+------+----+-----+-----+\n",
            "|Survived|Pclass|   Sex| Age|SibSp|Parch|\n",
            "+--------+------+------+----+-----+-----+\n",
            "|       0|     1|  male|27.0|    2|    1|\n",
            "|       0|     2|  male|66.0|    0|    0|\n",
            "|       0|     1|  male|60.0|    0|    0|\n",
            "|       0|     3|  male|36.0|    0|    0|\n",
            "|       1|     1|female|44.0|    0|    1|\n",
            "|       1|     1|female|61.0|    0|    4|\n",
            "|       0|     1|female|53.0|    1|    1|\n",
            "|       1|     1|female|35.0|    0|    2|\n",
            "|       1|     1|female|67.0|    1|    0|\n",
            "|       1|     1|  male|54.0|    0|    0|\n",
            "|       1|     1|female|69.0|    1|    0|\n",
            "|       1|     2|female| 7.0|    0|    1|\n",
            "|       0|     1|  male|43.0|    0|    0|\n",
            "|       1|     1|  male|63.0|    0|    0|\n",
            "|       0|     1|  male|45.0|    1|    0|\n",
            "|       1|     1|female|34.0|    1|    0|\n",
            "|       1|     1|  male|27.0|    0|    0|\n",
            "|       1|     1|female|28.0|    0|    1|\n",
            "|       0|     1|female|36.0|    0|    2|\n",
            "|       1|     1|female| 5.0|    1|    0|\n",
            "+--------+------+------+----+-----+-----+\n",
            "only showing top 20 rows\n",
            "\n"
          ]
        }
      ]
    },
    {
      "cell_type": "code",
      "source": [
        "sex_in = StringIndexer(inputCol=\"Sex\", outputCol=\"Sex_encoding\")\n",
        "df1 = sex_in.fit(dataset).transform(dataset)\n",
        "df1.show()"
      ],
      "metadata": {
        "colab": {
          "base_uri": "https://localhost:8080/"
        },
        "id": "LpI15sOVFIhA",
        "outputId": "67497471-4447-4d44-ca04-868f1d957b64"
      },
      "execution_count": 11,
      "outputs": [
        {
          "output_type": "stream",
          "name": "stdout",
          "text": [
            "+--------+------+------+----+-----+-----+------------+\n",
            "|Survived|Pclass|   Sex| Age|SibSp|Parch|Sex_encoding|\n",
            "+--------+------+------+----+-----+-----+------------+\n",
            "|       0|     1|  male|27.0|    2|    1|         1.0|\n",
            "|       0|     2|  male|66.0|    0|    0|         1.0|\n",
            "|       0|     1|  male|60.0|    0|    0|         1.0|\n",
            "|       0|     3|  male|36.0|    0|    0|         1.0|\n",
            "|       1|     1|female|44.0|    0|    1|         0.0|\n",
            "|       1|     1|female|61.0|    0|    4|         0.0|\n",
            "|       0|     1|female|53.0|    1|    1|         0.0|\n",
            "|       1|     1|female|35.0|    0|    2|         0.0|\n",
            "|       1|     1|female|67.0|    1|    0|         0.0|\n",
            "|       1|     1|  male|54.0|    0|    0|         1.0|\n",
            "|       1|     1|female|69.0|    1|    0|         0.0|\n",
            "|       1|     2|female| 7.0|    0|    1|         0.0|\n",
            "|       0|     1|  male|43.0|    0|    0|         1.0|\n",
            "|       1|     1|  male|63.0|    0|    0|         1.0|\n",
            "|       0|     1|  male|45.0|    1|    0|         1.0|\n",
            "|       1|     1|female|34.0|    1|    0|         0.0|\n",
            "|       1|     1|  male|27.0|    0|    0|         1.0|\n",
            "|       1|     1|female|28.0|    0|    1|         0.0|\n",
            "|       0|     1|female|36.0|    0|    2|         0.0|\n",
            "|       1|     1|female| 5.0|    1|    0|         0.0|\n",
            "+--------+------+------+----+-----+-----+------------+\n",
            "only showing top 20 rows\n",
            "\n"
          ]
        }
      ]
    },
    {
      "cell_type": "code",
      "source": [
        "required_features = ['Survived',\n",
        "                    'Pclass',\n",
        "                    'SibSp',\n",
        "                    'Parch',\n",
        "                     'Age',\n",
        "                     'Sex_encoding'\n",
        "                   ]\n",
        "\n",
        "assembler = VectorAssembler(inputCols=required_features, outputCol='features')\n",
        "\n",
        "transformed_data = assembler.transform(df1)"
      ],
      "metadata": {
        "id": "4H6WS815FOls"
      },
      "execution_count": 12,
      "outputs": []
    },
    {
      "cell_type": "code",
      "source": [
        "transformed_data.show()"
      ],
      "metadata": {
        "colab": {
          "base_uri": "https://localhost:8080/"
        },
        "id": "YGIepyJTFRrR",
        "outputId": "04c5f0ce-3164-4963-b0e5-adc501eb1817"
      },
      "execution_count": 13,
      "outputs": [
        {
          "output_type": "stream",
          "name": "stdout",
          "text": [
            "+--------+------+------+----+-----+-----+------------+--------------------+\n",
            "|Survived|Pclass|   Sex| Age|SibSp|Parch|Sex_encoding|            features|\n",
            "+--------+------+------+----+-----+-----+------------+--------------------+\n",
            "|       0|     1|  male|27.0|    2|    1|         1.0|[0.0,1.0,2.0,1.0,...|\n",
            "|       0|     2|  male|66.0|    0|    0|         1.0|[0.0,2.0,0.0,0.0,...|\n",
            "|       0|     1|  male|60.0|    0|    0|         1.0|[0.0,1.0,0.0,0.0,...|\n",
            "|       0|     3|  male|36.0|    0|    0|         1.0|[0.0,3.0,0.0,0.0,...|\n",
            "|       1|     1|female|44.0|    0|    1|         0.0|[1.0,1.0,0.0,1.0,...|\n",
            "|       1|     1|female|61.0|    0|    4|         0.0|[1.0,1.0,0.0,4.0,...|\n",
            "|       0|     1|female|53.0|    1|    1|         0.0|[0.0,1.0,1.0,1.0,...|\n",
            "|       1|     1|female|35.0|    0|    2|         0.0|[1.0,1.0,0.0,2.0,...|\n",
            "|       1|     1|female|67.0|    1|    0|         0.0|[1.0,1.0,1.0,0.0,...|\n",
            "|       1|     1|  male|54.0|    0|    0|         1.0|[1.0,1.0,0.0,0.0,...|\n",
            "|       1|     1|female|69.0|    1|    0|         0.0|[1.0,1.0,1.0,0.0,...|\n",
            "|       1|     2|female| 7.0|    0|    1|         0.0|[1.0,2.0,0.0,1.0,...|\n",
            "|       0|     1|  male|43.0|    0|    0|         1.0|[0.0,1.0,0.0,0.0,...|\n",
            "|       1|     1|  male|63.0|    0|    0|         1.0|[1.0,1.0,0.0,0.0,...|\n",
            "|       0|     1|  male|45.0|    1|    0|         1.0|[0.0,1.0,1.0,0.0,...|\n",
            "|       1|     1|female|34.0|    1|    0|         0.0|[1.0,1.0,1.0,0.0,...|\n",
            "|       1|     1|  male|27.0|    0|    0|         1.0|[1.0,1.0,0.0,0.0,...|\n",
            "|       1|     1|female|28.0|    0|    1|         0.0|[1.0,1.0,0.0,1.0,...|\n",
            "|       0|     1|female|36.0|    0|    2|         0.0|[0.0,1.0,0.0,2.0,...|\n",
            "|       1|     1|female| 5.0|    1|    0|         0.0|[1.0,1.0,1.0,0.0,...|\n",
            "+--------+------+------+----+-----+-----+------------+--------------------+\n",
            "only showing top 20 rows\n",
            "\n"
          ]
        }
      ]
    },
    {
      "cell_type": "code",
      "source": [
        "(training_data, test_data) = transformed_data.randomSplit([0.8,0.2])"
      ],
      "metadata": {
        "id": "WGlA6CTEFW4g"
      },
      "execution_count": 14,
      "outputs": []
    },
    {
      "cell_type": "code",
      "source": [
        "print(\"Training Dataset Count: \" + str(training_data.count()))\n",
        "print(\"Test Dataset Count: \" + str(test_data.count()))"
      ],
      "metadata": {
        "colab": {
          "base_uri": "https://localhost:8080/"
        },
        "id": "NRwgrmFBF-bk",
        "outputId": "87a8b92a-3f86-44e9-c1c0-0b7d6c450bbe"
      },
      "execution_count": 15,
      "outputs": [
        {
          "output_type": "stream",
          "name": "stdout",
          "text": [
            "Training Dataset Count: 24708\n",
            "Test Dataset Count: 6173\n"
          ]
        }
      ]
    },
    {
      "cell_type": "code",
      "source": [
        "rf = RandomForestClassifier(labelCol='Survived', \n",
        "                            featuresCol='features',\n",
        "                            maxDepth=5)\n",
        "model = rf.fit(training_data)\n",
        "rf_predictions = model.transform(test_data)"
      ],
      "metadata": {
        "id": "S6ZKqltuGMni"
      },
      "execution_count": 16,
      "outputs": []
    },
    {
      "cell_type": "code",
      "source": [
        "multi_evaluator = MulticlassClassificationEvaluator(labelCol = 'Survived', metricName = 'accuracy')\n",
        "print('Random Forest classifier Accuracy:', multi_evaluator.evaluate(rf_predictions))"
      ],
      "metadata": {
        "colab": {
          "base_uri": "https://localhost:8080/"
        },
        "id": "sVOxJ0c1GaT3",
        "outputId": "cc662a62-3c6c-4c9c-8b1a-41e83750c2ad"
      },
      "execution_count": 17,
      "outputs": [
        {
          "output_type": "stream",
          "name": "stdout",
          "text": [
            "Random Forest classifier Accuracy: 1.0\n"
          ]
        }
      ]
    },
    {
      "cell_type": "code",
      "source": [
        "dt = DecisionTreeClassifier(featuresCol = 'features', labelCol = 'Survived', maxDepth = 3)\n",
        "dtModel = dt.fit(training_data)\n",
        "dt_predictions = dtModel.transform(test_data)\n",
        "dt_predictions.select('Sex_encoding', 'Pclass','SibSp', 'Parch', 'Age', 'Survived').show(10)"
      ],
      "metadata": {
        "colab": {
          "base_uri": "https://localhost:8080/"
        },
        "id": "H2OI6fPRGl2J",
        "outputId": "3b0059e2-3b16-4cff-bad2-007df3788f32"
      },
      "execution_count": 18,
      "outputs": [
        {
          "output_type": "stream",
          "name": "stdout",
          "text": [
            "+------------+------+-----+-----+---+--------+\n",
            "|Sex_encoding|Pclass|SibSp|Parch|Age|Survived|\n",
            "+------------+------+-----+-----+---+--------+\n",
            "|         0.0|     1|    1|    2|1.0|       0|\n",
            "|         0.0|     1|    4|    2|1.0|       0|\n",
            "|         0.0|     1|    1|    2|3.0|       0|\n",
            "|         0.0|     1|    1|    2|3.0|       0|\n",
            "|         0.0|     1|    1|    0|4.0|       0|\n",
            "|         0.0|     1|    1|    2|4.0|       0|\n",
            "|         0.0|     1|    1|    2|4.0|       0|\n",
            "|         0.0|     1|    0|    0|5.0|       0|\n",
            "|         0.0|     1|    0|    0|5.0|       0|\n",
            "|         0.0|     1|    0|    2|5.0|       0|\n",
            "+------------+------+-----+-----+---+--------+\n",
            "only showing top 10 rows\n",
            "\n"
          ]
        }
      ]
    },
    {
      "cell_type": "code",
      "source": [
        "multi_evaluator = MulticlassClassificationEvaluator(labelCol = 'Survived', metricName = 'accuracy')\n",
        "print('Decision Tree Accuracy:', multi_evaluator.evaluate(dt_predictions))"
      ],
      "metadata": {
        "colab": {
          "base_uri": "https://localhost:8080/"
        },
        "id": "x-1Ff9hYHEAc",
        "outputId": "8ae53b42-da4d-43a5-b8b1-e1afe5b11380"
      },
      "execution_count": 19,
      "outputs": [
        {
          "output_type": "stream",
          "name": "stdout",
          "text": [
            "Decision Tree Accuracy: 1.0\n"
          ]
        }
      ]
    },
    {
      "cell_type": "code",
      "source": [
        "gb = GBTClassifier(labelCol = 'Survived', featuresCol = 'features')\n",
        "gbModel = gb.fit(training_data)\n",
        "gb_predictions = gbModel.transform(test_data)"
      ],
      "metadata": {
        "id": "7bjQ4XJdHImw"
      },
      "execution_count": 20,
      "outputs": []
    },
    {
      "cell_type": "code",
      "source": [
        "multi_evaluator = MulticlassClassificationEvaluator(labelCol = 'Survived', metricName = 'accuracy')\n",
        "print('Gradient-boosted Trees Accuracy:', multi_evaluator.evaluate(gb_predictions))"
      ],
      "metadata": {
        "colab": {
          "base_uri": "https://localhost:8080/"
        },
        "id": "6QJTlwIBHNFb",
        "outputId": "f165cc8e-9a6f-415b-c286-52770c95e6ab"
      },
      "execution_count": 21,
      "outputs": [
        {
          "output_type": "stream",
          "name": "stdout",
          "text": [
            "Gradient-boosted Trees Accuracy: 1.0\n"
          ]
        }
      ]
    },
    {
      "cell_type": "code",
      "source": [
        "df_pd = gb_predictions.toPandas()"
      ],
      "metadata": {
        "id": "XdHHgjIyHSdA"
      },
      "execution_count": 22,
      "outputs": []
    },
    {
      "cell_type": "code",
      "source": [
        "df_pd.head()"
      ],
      "metadata": {
        "colab": {
          "base_uri": "https://localhost:8080/",
          "height": 337
        },
        "id": "pu9lspOEHUtc",
        "outputId": "bff85615-18cd-44ad-8f13-d0b4c4a626a4"
      },
      "execution_count": 23,
      "outputs": [
        {
          "output_type": "execute_result",
          "data": {
            "text/plain": [
              "   Survived  Pclass     Sex  Age  SibSp  Parch  Sex_encoding  \\\n",
              "0         0       1  female  1.0      1      2           0.0   \n",
              "1         0       1  female  1.0      4      2           0.0   \n",
              "2         0       1  female  3.0      1      2           0.0   \n",
              "3         0       1  female  3.0      1      2           0.0   \n",
              "4         0       1  female  4.0      1      0           0.0   \n",
              "\n",
              "                         features                              rawPrediction  \\\n",
              "0  [0.0, 1.0, 1.0, 2.0, 1.0, 0.0]      [1.54350200272501, -1.54350200272501]   \n",
              "1  [0.0, 1.0, 4.0, 2.0, 1.0, 0.0]  [1.5435020027250088, -1.5435020027250088]   \n",
              "2  [0.0, 1.0, 1.0, 2.0, 3.0, 0.0]      [1.54350200272501, -1.54350200272501]   \n",
              "3  [0.0, 1.0, 1.0, 2.0, 3.0, 0.0]      [1.54350200272501, -1.54350200272501]   \n",
              "4  [0.0, 1.0, 1.0, 0.0, 4.0, 0.0]      [1.54350200272501, -1.54350200272501]   \n",
              "\n",
              "                                  probability  prediction  \n",
              "0  [0.9563534785727089, 0.043646521427291085]         0.0  \n",
              "1  [0.9563534785727089, 0.043646521427291085]         0.0  \n",
              "2  [0.9563534785727089, 0.043646521427291085]         0.0  \n",
              "3  [0.9563534785727089, 0.043646521427291085]         0.0  \n",
              "4  [0.9563534785727089, 0.043646521427291085]         0.0  "
            ],
            "text/html": [
              "\n",
              "  <div id=\"df-00cb26b5-9e28-46da-94a1-294db9c1bc1b\">\n",
              "    <div class=\"colab-df-container\">\n",
              "      <div>\n",
              "<style scoped>\n",
              "    .dataframe tbody tr th:only-of-type {\n",
              "        vertical-align: middle;\n",
              "    }\n",
              "\n",
              "    .dataframe tbody tr th {\n",
              "        vertical-align: top;\n",
              "    }\n",
              "\n",
              "    .dataframe thead th {\n",
              "        text-align: right;\n",
              "    }\n",
              "</style>\n",
              "<table border=\"1\" class=\"dataframe\">\n",
              "  <thead>\n",
              "    <tr style=\"text-align: right;\">\n",
              "      <th></th>\n",
              "      <th>Survived</th>\n",
              "      <th>Pclass</th>\n",
              "      <th>Sex</th>\n",
              "      <th>Age</th>\n",
              "      <th>SibSp</th>\n",
              "      <th>Parch</th>\n",
              "      <th>Sex_encoding</th>\n",
              "      <th>features</th>\n",
              "      <th>rawPrediction</th>\n",
              "      <th>probability</th>\n",
              "      <th>prediction</th>\n",
              "    </tr>\n",
              "  </thead>\n",
              "  <tbody>\n",
              "    <tr>\n",
              "      <th>0</th>\n",
              "      <td>0</td>\n",
              "      <td>1</td>\n",
              "      <td>female</td>\n",
              "      <td>1.0</td>\n",
              "      <td>1</td>\n",
              "      <td>2</td>\n",
              "      <td>0.0</td>\n",
              "      <td>[0.0, 1.0, 1.0, 2.0, 1.0, 0.0]</td>\n",
              "      <td>[1.54350200272501, -1.54350200272501]</td>\n",
              "      <td>[0.9563534785727089, 0.043646521427291085]</td>\n",
              "      <td>0.0</td>\n",
              "    </tr>\n",
              "    <tr>\n",
              "      <th>1</th>\n",
              "      <td>0</td>\n",
              "      <td>1</td>\n",
              "      <td>female</td>\n",
              "      <td>1.0</td>\n",
              "      <td>4</td>\n",
              "      <td>2</td>\n",
              "      <td>0.0</td>\n",
              "      <td>[0.0, 1.0, 4.0, 2.0, 1.0, 0.0]</td>\n",
              "      <td>[1.5435020027250088, -1.5435020027250088]</td>\n",
              "      <td>[0.9563534785727089, 0.043646521427291085]</td>\n",
              "      <td>0.0</td>\n",
              "    </tr>\n",
              "    <tr>\n",
              "      <th>2</th>\n",
              "      <td>0</td>\n",
              "      <td>1</td>\n",
              "      <td>female</td>\n",
              "      <td>3.0</td>\n",
              "      <td>1</td>\n",
              "      <td>2</td>\n",
              "      <td>0.0</td>\n",
              "      <td>[0.0, 1.0, 1.0, 2.0, 3.0, 0.0]</td>\n",
              "      <td>[1.54350200272501, -1.54350200272501]</td>\n",
              "      <td>[0.9563534785727089, 0.043646521427291085]</td>\n",
              "      <td>0.0</td>\n",
              "    </tr>\n",
              "    <tr>\n",
              "      <th>3</th>\n",
              "      <td>0</td>\n",
              "      <td>1</td>\n",
              "      <td>female</td>\n",
              "      <td>3.0</td>\n",
              "      <td>1</td>\n",
              "      <td>2</td>\n",
              "      <td>0.0</td>\n",
              "      <td>[0.0, 1.0, 1.0, 2.0, 3.0, 0.0]</td>\n",
              "      <td>[1.54350200272501, -1.54350200272501]</td>\n",
              "      <td>[0.9563534785727089, 0.043646521427291085]</td>\n",
              "      <td>0.0</td>\n",
              "    </tr>\n",
              "    <tr>\n",
              "      <th>4</th>\n",
              "      <td>0</td>\n",
              "      <td>1</td>\n",
              "      <td>female</td>\n",
              "      <td>4.0</td>\n",
              "      <td>1</td>\n",
              "      <td>0</td>\n",
              "      <td>0.0</td>\n",
              "      <td>[0.0, 1.0, 1.0, 0.0, 4.0, 0.0]</td>\n",
              "      <td>[1.54350200272501, -1.54350200272501]</td>\n",
              "      <td>[0.9563534785727089, 0.043646521427291085]</td>\n",
              "      <td>0.0</td>\n",
              "    </tr>\n",
              "  </tbody>\n",
              "</table>\n",
              "</div>\n",
              "      <button class=\"colab-df-convert\" onclick=\"convertToInteractive('df-00cb26b5-9e28-46da-94a1-294db9c1bc1b')\"\n",
              "              title=\"Convert this dataframe to an interactive table.\"\n",
              "              style=\"display:none;\">\n",
              "        \n",
              "  <svg xmlns=\"http://www.w3.org/2000/svg\" height=\"24px\"viewBox=\"0 0 24 24\"\n",
              "       width=\"24px\">\n",
              "    <path d=\"M0 0h24v24H0V0z\" fill=\"none\"/>\n",
              "    <path d=\"M18.56 5.44l.94 2.06.94-2.06 2.06-.94-2.06-.94-.94-2.06-.94 2.06-2.06.94zm-11 1L8.5 8.5l.94-2.06 2.06-.94-2.06-.94L8.5 2.5l-.94 2.06-2.06.94zm10 10l.94 2.06.94-2.06 2.06-.94-2.06-.94-.94-2.06-.94 2.06-2.06.94z\"/><path d=\"M17.41 7.96l-1.37-1.37c-.4-.4-.92-.59-1.43-.59-.52 0-1.04.2-1.43.59L10.3 9.45l-7.72 7.72c-.78.78-.78 2.05 0 2.83L4 21.41c.39.39.9.59 1.41.59.51 0 1.02-.2 1.41-.59l7.78-7.78 2.81-2.81c.8-.78.8-2.07 0-2.86zM5.41 20L4 18.59l7.72-7.72 1.47 1.35L5.41 20z\"/>\n",
              "  </svg>\n",
              "      </button>\n",
              "      \n",
              "  <style>\n",
              "    .colab-df-container {\n",
              "      display:flex;\n",
              "      flex-wrap:wrap;\n",
              "      gap: 12px;\n",
              "    }\n",
              "\n",
              "    .colab-df-convert {\n",
              "      background-color: #E8F0FE;\n",
              "      border: none;\n",
              "      border-radius: 50%;\n",
              "      cursor: pointer;\n",
              "      display: none;\n",
              "      fill: #1967D2;\n",
              "      height: 32px;\n",
              "      padding: 0 0 0 0;\n",
              "      width: 32px;\n",
              "    }\n",
              "\n",
              "    .colab-df-convert:hover {\n",
              "      background-color: #E2EBFA;\n",
              "      box-shadow: 0px 1px 2px rgba(60, 64, 67, 0.3), 0px 1px 3px 1px rgba(60, 64, 67, 0.15);\n",
              "      fill: #174EA6;\n",
              "    }\n",
              "\n",
              "    [theme=dark] .colab-df-convert {\n",
              "      background-color: #3B4455;\n",
              "      fill: #D2E3FC;\n",
              "    }\n",
              "\n",
              "    [theme=dark] .colab-df-convert:hover {\n",
              "      background-color: #434B5C;\n",
              "      box-shadow: 0px 1px 3px 1px rgba(0, 0, 0, 0.15);\n",
              "      filter: drop-shadow(0px 1px 2px rgba(0, 0, 0, 0.3));\n",
              "      fill: #FFFFFF;\n",
              "    }\n",
              "  </style>\n",
              "\n",
              "      <script>\n",
              "        const buttonEl =\n",
              "          document.querySelector('#df-00cb26b5-9e28-46da-94a1-294db9c1bc1b button.colab-df-convert');\n",
              "        buttonEl.style.display =\n",
              "          google.colab.kernel.accessAllowed ? 'block' : 'none';\n",
              "\n",
              "        async function convertToInteractive(key) {\n",
              "          const element = document.querySelector('#df-00cb26b5-9e28-46da-94a1-294db9c1bc1b');\n",
              "          const dataTable =\n",
              "            await google.colab.kernel.invokeFunction('convertToInteractive',\n",
              "                                                     [key], {});\n",
              "          if (!dataTable) return;\n",
              "\n",
              "          const docLinkHtml = 'Like what you see? Visit the ' +\n",
              "            '<a target=\"_blank\" href=https://colab.research.google.com/notebooks/data_table.ipynb>data table notebook</a>'\n",
              "            + ' to learn more about interactive tables.';\n",
              "          element.innerHTML = '';\n",
              "          dataTable['output_type'] = 'display_data';\n",
              "          await google.colab.output.renderOutput(dataTable, element);\n",
              "          const docLink = document.createElement('div');\n",
              "          docLink.innerHTML = docLinkHtml;\n",
              "          element.appendChild(docLink);\n",
              "        }\n",
              "      </script>\n",
              "    </div>\n",
              "  </div>\n",
              "  "
            ]
          },
          "metadata": {},
          "execution_count": 23
        }
      ]
    },
    {
      "cell_type": "code",
      "source": [
        "df_pd.to_csv(\"gbModel.csv\",index = False)\n",
        "gb_df = pd.read_csv(\"./gbModel.csv\")\n",
        "gb_df.head()"
      ],
      "metadata": {
        "colab": {
          "base_uri": "https://localhost:8080/",
          "height": 270
        },
        "id": "mu0-YhyCHiKA",
        "outputId": "7b8e92dd-e51a-46e3-cbcc-9ca2ae4f3fec"
      },
      "execution_count": 24,
      "outputs": [
        {
          "output_type": "execute_result",
          "data": {
            "text/plain": [
              "   Survived  Pclass     Sex  Age  SibSp  Parch  Sex_encoding  \\\n",
              "0         0       1  female  1.0      1      2           0.0   \n",
              "1         0       1  female  1.0      4      2           0.0   \n",
              "2         0       1  female  3.0      1      2           0.0   \n",
              "3         0       1  female  3.0      1      2           0.0   \n",
              "4         0       1  female  4.0      1      0           0.0   \n",
              "\n",
              "                    features                             rawPrediction  \\\n",
              "0  [0.0,1.0,1.0,2.0,1.0,0.0]      [1.54350200272501,-1.54350200272501]   \n",
              "1  [0.0,1.0,4.0,2.0,1.0,0.0]  [1.5435020027250088,-1.5435020027250088]   \n",
              "2  [0.0,1.0,1.0,2.0,3.0,0.0]      [1.54350200272501,-1.54350200272501]   \n",
              "3  [0.0,1.0,1.0,2.0,3.0,0.0]      [1.54350200272501,-1.54350200272501]   \n",
              "4  [0.0,1.0,1.0,0.0,4.0,0.0]      [1.54350200272501,-1.54350200272501]   \n",
              "\n",
              "                                 probability  prediction  \n",
              "0  [0.9563534785727089,0.043646521427291085]         0.0  \n",
              "1  [0.9563534785727089,0.043646521427291085]         0.0  \n",
              "2  [0.9563534785727089,0.043646521427291085]         0.0  \n",
              "3  [0.9563534785727089,0.043646521427291085]         0.0  \n",
              "4  [0.9563534785727089,0.043646521427291085]         0.0  "
            ],
            "text/html": [
              "\n",
              "  <div id=\"df-3287d0d6-9ef5-4521-ad24-10e59f4056ca\">\n",
              "    <div class=\"colab-df-container\">\n",
              "      <div>\n",
              "<style scoped>\n",
              "    .dataframe tbody tr th:only-of-type {\n",
              "        vertical-align: middle;\n",
              "    }\n",
              "\n",
              "    .dataframe tbody tr th {\n",
              "        vertical-align: top;\n",
              "    }\n",
              "\n",
              "    .dataframe thead th {\n",
              "        text-align: right;\n",
              "    }\n",
              "</style>\n",
              "<table border=\"1\" class=\"dataframe\">\n",
              "  <thead>\n",
              "    <tr style=\"text-align: right;\">\n",
              "      <th></th>\n",
              "      <th>Survived</th>\n",
              "      <th>Pclass</th>\n",
              "      <th>Sex</th>\n",
              "      <th>Age</th>\n",
              "      <th>SibSp</th>\n",
              "      <th>Parch</th>\n",
              "      <th>Sex_encoding</th>\n",
              "      <th>features</th>\n",
              "      <th>rawPrediction</th>\n",
              "      <th>probability</th>\n",
              "      <th>prediction</th>\n",
              "    </tr>\n",
              "  </thead>\n",
              "  <tbody>\n",
              "    <tr>\n",
              "      <th>0</th>\n",
              "      <td>0</td>\n",
              "      <td>1</td>\n",
              "      <td>female</td>\n",
              "      <td>1.0</td>\n",
              "      <td>1</td>\n",
              "      <td>2</td>\n",
              "      <td>0.0</td>\n",
              "      <td>[0.0,1.0,1.0,2.0,1.0,0.0]</td>\n",
              "      <td>[1.54350200272501,-1.54350200272501]</td>\n",
              "      <td>[0.9563534785727089,0.043646521427291085]</td>\n",
              "      <td>0.0</td>\n",
              "    </tr>\n",
              "    <tr>\n",
              "      <th>1</th>\n",
              "      <td>0</td>\n",
              "      <td>1</td>\n",
              "      <td>female</td>\n",
              "      <td>1.0</td>\n",
              "      <td>4</td>\n",
              "      <td>2</td>\n",
              "      <td>0.0</td>\n",
              "      <td>[0.0,1.0,4.0,2.0,1.0,0.0]</td>\n",
              "      <td>[1.5435020027250088,-1.5435020027250088]</td>\n",
              "      <td>[0.9563534785727089,0.043646521427291085]</td>\n",
              "      <td>0.0</td>\n",
              "    </tr>\n",
              "    <tr>\n",
              "      <th>2</th>\n",
              "      <td>0</td>\n",
              "      <td>1</td>\n",
              "      <td>female</td>\n",
              "      <td>3.0</td>\n",
              "      <td>1</td>\n",
              "      <td>2</td>\n",
              "      <td>0.0</td>\n",
              "      <td>[0.0,1.0,1.0,2.0,3.0,0.0]</td>\n",
              "      <td>[1.54350200272501,-1.54350200272501]</td>\n",
              "      <td>[0.9563534785727089,0.043646521427291085]</td>\n",
              "      <td>0.0</td>\n",
              "    </tr>\n",
              "    <tr>\n",
              "      <th>3</th>\n",
              "      <td>0</td>\n",
              "      <td>1</td>\n",
              "      <td>female</td>\n",
              "      <td>3.0</td>\n",
              "      <td>1</td>\n",
              "      <td>2</td>\n",
              "      <td>0.0</td>\n",
              "      <td>[0.0,1.0,1.0,2.0,3.0,0.0]</td>\n",
              "      <td>[1.54350200272501,-1.54350200272501]</td>\n",
              "      <td>[0.9563534785727089,0.043646521427291085]</td>\n",
              "      <td>0.0</td>\n",
              "    </tr>\n",
              "    <tr>\n",
              "      <th>4</th>\n",
              "      <td>0</td>\n",
              "      <td>1</td>\n",
              "      <td>female</td>\n",
              "      <td>4.0</td>\n",
              "      <td>1</td>\n",
              "      <td>0</td>\n",
              "      <td>0.0</td>\n",
              "      <td>[0.0,1.0,1.0,0.0,4.0,0.0]</td>\n",
              "      <td>[1.54350200272501,-1.54350200272501]</td>\n",
              "      <td>[0.9563534785727089,0.043646521427291085]</td>\n",
              "      <td>0.0</td>\n",
              "    </tr>\n",
              "  </tbody>\n",
              "</table>\n",
              "</div>\n",
              "      <button class=\"colab-df-convert\" onclick=\"convertToInteractive('df-3287d0d6-9ef5-4521-ad24-10e59f4056ca')\"\n",
              "              title=\"Convert this dataframe to an interactive table.\"\n",
              "              style=\"display:none;\">\n",
              "        \n",
              "  <svg xmlns=\"http://www.w3.org/2000/svg\" height=\"24px\"viewBox=\"0 0 24 24\"\n",
              "       width=\"24px\">\n",
              "    <path d=\"M0 0h24v24H0V0z\" fill=\"none\"/>\n",
              "    <path d=\"M18.56 5.44l.94 2.06.94-2.06 2.06-.94-2.06-.94-.94-2.06-.94 2.06-2.06.94zm-11 1L8.5 8.5l.94-2.06 2.06-.94-2.06-.94L8.5 2.5l-.94 2.06-2.06.94zm10 10l.94 2.06.94-2.06 2.06-.94-2.06-.94-.94-2.06-.94 2.06-2.06.94z\"/><path d=\"M17.41 7.96l-1.37-1.37c-.4-.4-.92-.59-1.43-.59-.52 0-1.04.2-1.43.59L10.3 9.45l-7.72 7.72c-.78.78-.78 2.05 0 2.83L4 21.41c.39.39.9.59 1.41.59.51 0 1.02-.2 1.41-.59l7.78-7.78 2.81-2.81c.8-.78.8-2.07 0-2.86zM5.41 20L4 18.59l7.72-7.72 1.47 1.35L5.41 20z\"/>\n",
              "  </svg>\n",
              "      </button>\n",
              "      \n",
              "  <style>\n",
              "    .colab-df-container {\n",
              "      display:flex;\n",
              "      flex-wrap:wrap;\n",
              "      gap: 12px;\n",
              "    }\n",
              "\n",
              "    .colab-df-convert {\n",
              "      background-color: #E8F0FE;\n",
              "      border: none;\n",
              "      border-radius: 50%;\n",
              "      cursor: pointer;\n",
              "      display: none;\n",
              "      fill: #1967D2;\n",
              "      height: 32px;\n",
              "      padding: 0 0 0 0;\n",
              "      width: 32px;\n",
              "    }\n",
              "\n",
              "    .colab-df-convert:hover {\n",
              "      background-color: #E2EBFA;\n",
              "      box-shadow: 0px 1px 2px rgba(60, 64, 67, 0.3), 0px 1px 3px 1px rgba(60, 64, 67, 0.15);\n",
              "      fill: #174EA6;\n",
              "    }\n",
              "\n",
              "    [theme=dark] .colab-df-convert {\n",
              "      background-color: #3B4455;\n",
              "      fill: #D2E3FC;\n",
              "    }\n",
              "\n",
              "    [theme=dark] .colab-df-convert:hover {\n",
              "      background-color: #434B5C;\n",
              "      box-shadow: 0px 1px 3px 1px rgba(0, 0, 0, 0.15);\n",
              "      filter: drop-shadow(0px 1px 2px rgba(0, 0, 0, 0.3));\n",
              "      fill: #FFFFFF;\n",
              "    }\n",
              "  </style>\n",
              "\n",
              "      <script>\n",
              "        const buttonEl =\n",
              "          document.querySelector('#df-3287d0d6-9ef5-4521-ad24-10e59f4056ca button.colab-df-convert');\n",
              "        buttonEl.style.display =\n",
              "          google.colab.kernel.accessAllowed ? 'block' : 'none';\n",
              "\n",
              "        async function convertToInteractive(key) {\n",
              "          const element = document.querySelector('#df-3287d0d6-9ef5-4521-ad24-10e59f4056ca');\n",
              "          const dataTable =\n",
              "            await google.colab.kernel.invokeFunction('convertToInteractive',\n",
              "                                                     [key], {});\n",
              "          if (!dataTable) return;\n",
              "\n",
              "          const docLinkHtml = 'Like what you see? Visit the ' +\n",
              "            '<a target=\"_blank\" href=https://colab.research.google.com/notebooks/data_table.ipynb>data table notebook</a>'\n",
              "            + ' to learn more about interactive tables.';\n",
              "          element.innerHTML = '';\n",
              "          dataTable['output_type'] = 'display_data';\n",
              "          await google.colab.output.renderOutput(dataTable, element);\n",
              "          const docLink = document.createElement('div');\n",
              "          docLink.innerHTML = docLinkHtml;\n",
              "          element.appendChild(docLink);\n",
              "        }\n",
              "      </script>\n",
              "    </div>\n",
              "  </div>\n",
              "  "
            ]
          },
          "metadata": {},
          "execution_count": 24
        }
      ]
    },
    {
      "cell_type": "code",
      "source": [
        "submission  = pd.read_csv(\"/content/drive/MyDrive/sample_submission.csv\")\n",
        "submission = submission.drop(\"Survived\",axis=1)\n",
        "submission.head()"
      ],
      "metadata": {
        "colab": {
          "base_uri": "https://localhost:8080/",
          "height": 206
        },
        "id": "C5LLHinRH3GV",
        "outputId": "bdd7694d-1f9d-4118-d734-17351e96ed15"
      },
      "execution_count": 25,
      "outputs": [
        {
          "output_type": "execute_result",
          "data": {
            "text/plain": [
              "   PassengerId\n",
              "0       100000\n",
              "1       100001\n",
              "2       100002\n",
              "3       100003\n",
              "4       100004"
            ],
            "text/html": [
              "\n",
              "  <div id=\"df-259ad963-39a3-42de-afc7-cae9d47de7f6\">\n",
              "    <div class=\"colab-df-container\">\n",
              "      <div>\n",
              "<style scoped>\n",
              "    .dataframe tbody tr th:only-of-type {\n",
              "        vertical-align: middle;\n",
              "    }\n",
              "\n",
              "    .dataframe tbody tr th {\n",
              "        vertical-align: top;\n",
              "    }\n",
              "\n",
              "    .dataframe thead th {\n",
              "        text-align: right;\n",
              "    }\n",
              "</style>\n",
              "<table border=\"1\" class=\"dataframe\">\n",
              "  <thead>\n",
              "    <tr style=\"text-align: right;\">\n",
              "      <th></th>\n",
              "      <th>PassengerId</th>\n",
              "    </tr>\n",
              "  </thead>\n",
              "  <tbody>\n",
              "    <tr>\n",
              "      <th>0</th>\n",
              "      <td>100000</td>\n",
              "    </tr>\n",
              "    <tr>\n",
              "      <th>1</th>\n",
              "      <td>100001</td>\n",
              "    </tr>\n",
              "    <tr>\n",
              "      <th>2</th>\n",
              "      <td>100002</td>\n",
              "    </tr>\n",
              "    <tr>\n",
              "      <th>3</th>\n",
              "      <td>100003</td>\n",
              "    </tr>\n",
              "    <tr>\n",
              "      <th>4</th>\n",
              "      <td>100004</td>\n",
              "    </tr>\n",
              "  </tbody>\n",
              "</table>\n",
              "</div>\n",
              "      <button class=\"colab-df-convert\" onclick=\"convertToInteractive('df-259ad963-39a3-42de-afc7-cae9d47de7f6')\"\n",
              "              title=\"Convert this dataframe to an interactive table.\"\n",
              "              style=\"display:none;\">\n",
              "        \n",
              "  <svg xmlns=\"http://www.w3.org/2000/svg\" height=\"24px\"viewBox=\"0 0 24 24\"\n",
              "       width=\"24px\">\n",
              "    <path d=\"M0 0h24v24H0V0z\" fill=\"none\"/>\n",
              "    <path d=\"M18.56 5.44l.94 2.06.94-2.06 2.06-.94-2.06-.94-.94-2.06-.94 2.06-2.06.94zm-11 1L8.5 8.5l.94-2.06 2.06-.94-2.06-.94L8.5 2.5l-.94 2.06-2.06.94zm10 10l.94 2.06.94-2.06 2.06-.94-2.06-.94-.94-2.06-.94 2.06-2.06.94z\"/><path d=\"M17.41 7.96l-1.37-1.37c-.4-.4-.92-.59-1.43-.59-.52 0-1.04.2-1.43.59L10.3 9.45l-7.72 7.72c-.78.78-.78 2.05 0 2.83L4 21.41c.39.39.9.59 1.41.59.51 0 1.02-.2 1.41-.59l7.78-7.78 2.81-2.81c.8-.78.8-2.07 0-2.86zM5.41 20L4 18.59l7.72-7.72 1.47 1.35L5.41 20z\"/>\n",
              "  </svg>\n",
              "      </button>\n",
              "      \n",
              "  <style>\n",
              "    .colab-df-container {\n",
              "      display:flex;\n",
              "      flex-wrap:wrap;\n",
              "      gap: 12px;\n",
              "    }\n",
              "\n",
              "    .colab-df-convert {\n",
              "      background-color: #E8F0FE;\n",
              "      border: none;\n",
              "      border-radius: 50%;\n",
              "      cursor: pointer;\n",
              "      display: none;\n",
              "      fill: #1967D2;\n",
              "      height: 32px;\n",
              "      padding: 0 0 0 0;\n",
              "      width: 32px;\n",
              "    }\n",
              "\n",
              "    .colab-df-convert:hover {\n",
              "      background-color: #E2EBFA;\n",
              "      box-shadow: 0px 1px 2px rgba(60, 64, 67, 0.3), 0px 1px 3px 1px rgba(60, 64, 67, 0.15);\n",
              "      fill: #174EA6;\n",
              "    }\n",
              "\n",
              "    [theme=dark] .colab-df-convert {\n",
              "      background-color: #3B4455;\n",
              "      fill: #D2E3FC;\n",
              "    }\n",
              "\n",
              "    [theme=dark] .colab-df-convert:hover {\n",
              "      background-color: #434B5C;\n",
              "      box-shadow: 0px 1px 3px 1px rgba(0, 0, 0, 0.15);\n",
              "      filter: drop-shadow(0px 1px 2px rgba(0, 0, 0, 0.3));\n",
              "      fill: #FFFFFF;\n",
              "    }\n",
              "  </style>\n",
              "\n",
              "      <script>\n",
              "        const buttonEl =\n",
              "          document.querySelector('#df-259ad963-39a3-42de-afc7-cae9d47de7f6 button.colab-df-convert');\n",
              "        buttonEl.style.display =\n",
              "          google.colab.kernel.accessAllowed ? 'block' : 'none';\n",
              "\n",
              "        async function convertToInteractive(key) {\n",
              "          const element = document.querySelector('#df-259ad963-39a3-42de-afc7-cae9d47de7f6');\n",
              "          const dataTable =\n",
              "            await google.colab.kernel.invokeFunction('convertToInteractive',\n",
              "                                                     [key], {});\n",
              "          if (!dataTable) return;\n",
              "\n",
              "          const docLinkHtml = 'Like what you see? Visit the ' +\n",
              "            '<a target=\"_blank\" href=https://colab.research.google.com/notebooks/data_table.ipynb>data table notebook</a>'\n",
              "            + ' to learn more about interactive tables.';\n",
              "          element.innerHTML = '';\n",
              "          dataTable['output_type'] = 'display_data';\n",
              "          await google.colab.output.renderOutput(dataTable, element);\n",
              "          const docLink = document.createElement('div');\n",
              "          docLink.innerHTML = docLinkHtml;\n",
              "          element.appendChild(docLink);\n",
              "        }\n",
              "      </script>\n",
              "    </div>\n",
              "  </div>\n",
              "  "
            ]
          },
          "metadata": {},
          "execution_count": 25
        }
      ]
    },
    {
      "cell_type": "code",
      "source": [
        "results = pd.concat([submission,gb_df.Survived],axis = 1)\n",
        "results.to_csv(\"submission.csv\", index = False)\n"
      ],
      "metadata": {
        "id": "D0neEQ_MIsfr"
      },
      "execution_count": 26,
      "outputs": []
    }
  ]
}